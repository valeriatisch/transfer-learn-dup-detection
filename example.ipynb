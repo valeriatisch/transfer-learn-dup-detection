{
 "cells": [
  {
   "cell_type": "code",
   "execution_count": 57,
   "id": "initial_id",
   "metadata": {
    "collapsed": true,
    "ExecuteTime": {
     "end_time": "2023-11-05T13:30:03.851665Z",
     "start_time": "2023-11-05T13:30:03.826217Z"
    }
   },
   "outputs": [],
   "source": [
    "import recordlinkage\n",
    "from recordlinkage.datasets import load_febrl1\n",
    "import pandas as pd"
   ]
  },
  {
   "cell_type": "code",
   "execution_count": 43,
   "outputs": [],
   "source": [
    "dfA = load_febrl1()"
   ],
   "metadata": {
    "collapsed": false,
    "ExecuteTime": {
     "end_time": "2023-11-05T13:26:05.093567Z",
     "start_time": "2023-11-05T13:26:05.079714Z"
    }
   },
   "id": "ae4c6cc7ec9fc160"
  },
  {
   "cell_type": "code",
   "execution_count": 44,
   "outputs": [
    {
     "data": {
      "text/plain": "            given_name     surname street_number          address_1  \\\nrec_id                                                                \nrec-223-org        NaN      waller             6   tullaroop street   \nrec-122-org    lachlan       berry            69      giblin street   \nrec-373-org     deakin  sondergeld            48  goldfinch circuit   \n\n             address_2      suburb postcode state date_of_birth soc_sec_id  \nrec_id                                                                      \nrec-223-org   willaroo    st james     4011    wa      19081209    6988048  \nrec-122-org  killarney     bittern     4814   qld      19990219    7364009  \nrec-373-org    kooltuo  canterbury     2776   vic      19600210    2635962  ",
      "text/html": "<div>\n<style scoped>\n    .dataframe tbody tr th:only-of-type {\n        vertical-align: middle;\n    }\n\n    .dataframe tbody tr th {\n        vertical-align: top;\n    }\n\n    .dataframe thead th {\n        text-align: right;\n    }\n</style>\n<table border=\"1\" class=\"dataframe\">\n  <thead>\n    <tr style=\"text-align: right;\">\n      <th></th>\n      <th>given_name</th>\n      <th>surname</th>\n      <th>street_number</th>\n      <th>address_1</th>\n      <th>address_2</th>\n      <th>suburb</th>\n      <th>postcode</th>\n      <th>state</th>\n      <th>date_of_birth</th>\n      <th>soc_sec_id</th>\n    </tr>\n    <tr>\n      <th>rec_id</th>\n      <th></th>\n      <th></th>\n      <th></th>\n      <th></th>\n      <th></th>\n      <th></th>\n      <th></th>\n      <th></th>\n      <th></th>\n      <th></th>\n    </tr>\n  </thead>\n  <tbody>\n    <tr>\n      <th>rec-223-org</th>\n      <td>NaN</td>\n      <td>waller</td>\n      <td>6</td>\n      <td>tullaroop street</td>\n      <td>willaroo</td>\n      <td>st james</td>\n      <td>4011</td>\n      <td>wa</td>\n      <td>19081209</td>\n      <td>6988048</td>\n    </tr>\n    <tr>\n      <th>rec-122-org</th>\n      <td>lachlan</td>\n      <td>berry</td>\n      <td>69</td>\n      <td>giblin street</td>\n      <td>killarney</td>\n      <td>bittern</td>\n      <td>4814</td>\n      <td>qld</td>\n      <td>19990219</td>\n      <td>7364009</td>\n    </tr>\n    <tr>\n      <th>rec-373-org</th>\n      <td>deakin</td>\n      <td>sondergeld</td>\n      <td>48</td>\n      <td>goldfinch circuit</td>\n      <td>kooltuo</td>\n      <td>canterbury</td>\n      <td>2776</td>\n      <td>vic</td>\n      <td>19600210</td>\n      <td>2635962</td>\n    </tr>\n  </tbody>\n</table>\n</div>"
     },
     "execution_count": 44,
     "metadata": {},
     "output_type": "execute_result"
    }
   ],
   "source": [
    "dfA.head(3)"
   ],
   "metadata": {
    "collapsed": false,
    "ExecuteTime": {
     "end_time": "2023-11-05T13:26:05.961381Z",
     "start_time": "2023-11-05T13:26:05.955132Z"
    }
   },
   "id": "e57051c85119df60"
  },
  {
   "cell_type": "markdown",
   "source": [
    "# Record pairs / Indexing\n",
    "- One to One\n",
    "- Blocking\n",
    "    - here based on postcode\n",
    "- SortedNeighbourhood"
   ],
   "metadata": {
    "collapsed": false
   },
   "id": "8e0ee012295ec22e"
  },
  {
   "cell_type": "code",
   "execution_count": 47,
   "outputs": [
    {
     "data": {
      "text/plain": "920"
     },
     "execution_count": 47,
     "metadata": {},
     "output_type": "execute_result"
    }
   ],
   "source": [
    "indexer = recordlinkage.Index()\n",
    "indexer.block(\"postcode\")\n",
    "candidate_links = indexer.index(dfA)\n",
    "len(candidate_links)"
   ],
   "metadata": {
    "collapsed": false,
    "ExecuteTime": {
     "end_time": "2023-11-05T13:26:24.326787Z",
     "start_time": "2023-11-05T13:26:24.321393Z"
    }
   },
   "id": "61bf3e4f21d91ee8"
  },
  {
   "cell_type": "code",
   "execution_count": 49,
   "outputs": [],
   "source": [
    "compare_cl = recordlinkage.Compare()\n",
    "compare_cl.string(\n",
    "    \"given_name\", \"given_name\", method=\"jarowinkler\", threshold=0.85, label=\"given_name\"\n",
    ")\n",
    "compare_cl.string(\n",
    "    \"surname\", \"surname\", method=\"jarowinkler\", threshold=0.85, label=\"surname\"\n",
    ")\n",
    "compare_cl.exact(\"date_of_birth\", \"date_of_birth\", label=\"date_of_birth\")\n",
    "compare_cl.exact(\"suburb\", \"suburb\", label=\"suburb\")\n",
    "compare_cl.exact(\"state\", \"state\", label=\"state\")\n",
    "compare_cl.string(\"address_1\", \"address_1\", threshold=0.85, label=\"address_1\")\n",
    "features = compare_cl.compute(candidate_links, dfA)"
   ],
   "metadata": {
    "collapsed": false,
    "ExecuteTime": {
     "end_time": "2023-11-05T13:26:52.840138Z",
     "start_time": "2023-11-05T13:26:52.820367Z"
    }
   },
   "id": "95a8b5057c9c2708"
  },
  {
   "cell_type": "code",
   "execution_count": 50,
   "outputs": [
    {
     "data": {
      "text/plain": "                            given_name  surname  date_of_birth  suburb  state  \\\nrec_id_1      rec_id_2                                                          \nrec-335-org   rec-223-org          0.0      0.0              0       0      0   \nrec-223-dup-0 rec-223-org          0.0      1.0              1       1      1   \n              rec-335-org          0.0      0.0              0       0      0   \nrec-301-dup-0 rec-122-org          0.0      0.0              0       0      1   \nrec-301-org   rec-122-org          0.0      0.0              0       0      1   \n...                                ...      ...            ...     ...    ...   \nrec-299-dup-0 rec-299-org          1.0      1.0              1       1      1   \nrec-491-dup-0 rec-491-org          1.0      1.0              1       1      1   \nrec-8-org     rec-8-dup-0          1.0      1.0              1       1      1   \nrec-222-dup-0 rec-222-org          1.0      1.0              1       1      1   \nrec-83-org    rec-83-dup-0         1.0      1.0              1       1      1   \n\n                            address_1  \nrec_id_1      rec_id_2                 \nrec-335-org   rec-223-org         0.0  \nrec-223-dup-0 rec-223-org         1.0  \n              rec-335-org         0.0  \nrec-301-dup-0 rec-122-org         0.0  \nrec-301-org   rec-122-org         0.0  \n...                               ...  \nrec-299-dup-0 rec-299-org         1.0  \nrec-491-dup-0 rec-491-org         1.0  \nrec-8-org     rec-8-dup-0         1.0  \nrec-222-dup-0 rec-222-org         1.0  \nrec-83-org    rec-83-dup-0        1.0  \n\n[920 rows x 6 columns]",
      "text/html": "<div>\n<style scoped>\n    .dataframe tbody tr th:only-of-type {\n        vertical-align: middle;\n    }\n\n    .dataframe tbody tr th {\n        vertical-align: top;\n    }\n\n    .dataframe thead th {\n        text-align: right;\n    }\n</style>\n<table border=\"1\" class=\"dataframe\">\n  <thead>\n    <tr style=\"text-align: right;\">\n      <th></th>\n      <th></th>\n      <th>given_name</th>\n      <th>surname</th>\n      <th>date_of_birth</th>\n      <th>suburb</th>\n      <th>state</th>\n      <th>address_1</th>\n    </tr>\n    <tr>\n      <th>rec_id_1</th>\n      <th>rec_id_2</th>\n      <th></th>\n      <th></th>\n      <th></th>\n      <th></th>\n      <th></th>\n      <th></th>\n    </tr>\n  </thead>\n  <tbody>\n    <tr>\n      <th>rec-335-org</th>\n      <th>rec-223-org</th>\n      <td>0.0</td>\n      <td>0.0</td>\n      <td>0</td>\n      <td>0</td>\n      <td>0</td>\n      <td>0.0</td>\n    </tr>\n    <tr>\n      <th rowspan=\"2\" valign=\"top\">rec-223-dup-0</th>\n      <th>rec-223-org</th>\n      <td>0.0</td>\n      <td>1.0</td>\n      <td>1</td>\n      <td>1</td>\n      <td>1</td>\n      <td>1.0</td>\n    </tr>\n    <tr>\n      <th>rec-335-org</th>\n      <td>0.0</td>\n      <td>0.0</td>\n      <td>0</td>\n      <td>0</td>\n      <td>0</td>\n      <td>0.0</td>\n    </tr>\n    <tr>\n      <th>rec-301-dup-0</th>\n      <th>rec-122-org</th>\n      <td>0.0</td>\n      <td>0.0</td>\n      <td>0</td>\n      <td>0</td>\n      <td>1</td>\n      <td>0.0</td>\n    </tr>\n    <tr>\n      <th>rec-301-org</th>\n      <th>rec-122-org</th>\n      <td>0.0</td>\n      <td>0.0</td>\n      <td>0</td>\n      <td>0</td>\n      <td>1</td>\n      <td>0.0</td>\n    </tr>\n    <tr>\n      <th>...</th>\n      <th>...</th>\n      <td>...</td>\n      <td>...</td>\n      <td>...</td>\n      <td>...</td>\n      <td>...</td>\n      <td>...</td>\n    </tr>\n    <tr>\n      <th>rec-299-dup-0</th>\n      <th>rec-299-org</th>\n      <td>1.0</td>\n      <td>1.0</td>\n      <td>1</td>\n      <td>1</td>\n      <td>1</td>\n      <td>1.0</td>\n    </tr>\n    <tr>\n      <th>rec-491-dup-0</th>\n      <th>rec-491-org</th>\n      <td>1.0</td>\n      <td>1.0</td>\n      <td>1</td>\n      <td>1</td>\n      <td>1</td>\n      <td>1.0</td>\n    </tr>\n    <tr>\n      <th>rec-8-org</th>\n      <th>rec-8-dup-0</th>\n      <td>1.0</td>\n      <td>1.0</td>\n      <td>1</td>\n      <td>1</td>\n      <td>1</td>\n      <td>1.0</td>\n    </tr>\n    <tr>\n      <th>rec-222-dup-0</th>\n      <th>rec-222-org</th>\n      <td>1.0</td>\n      <td>1.0</td>\n      <td>1</td>\n      <td>1</td>\n      <td>1</td>\n      <td>1.0</td>\n    </tr>\n    <tr>\n      <th>rec-83-org</th>\n      <th>rec-83-dup-0</th>\n      <td>1.0</td>\n      <td>1.0</td>\n      <td>1</td>\n      <td>1</td>\n      <td>1</td>\n      <td>1.0</td>\n    </tr>\n  </tbody>\n</table>\n<p>920 rows × 6 columns</p>\n</div>"
     },
     "execution_count": 50,
     "metadata": {},
     "output_type": "execute_result"
    }
   ],
   "source": [
    "features"
   ],
   "metadata": {
    "collapsed": false,
    "ExecuteTime": {
     "end_time": "2023-11-05T13:26:55.039425Z",
     "start_time": "2023-11-05T13:26:55.034996Z"
    }
   },
   "id": "e3db5e6451939e92"
  },
  {
   "cell_type": "code",
   "execution_count": 51,
   "outputs": [
    {
     "data": {
      "text/plain": "       given_name     surname  date_of_birth      suburb       state  \\\ncount  920.000000  920.000000     920.000000  920.000000  920.000000   \nmean     0.341304    0.370652       0.402174    0.318478    0.544565   \nstd      0.474405    0.483242       0.490603    0.466140    0.498281   \nmin      0.000000    0.000000       0.000000    0.000000    0.000000   \n25%      0.000000    0.000000       0.000000    0.000000    0.000000   \n50%      0.000000    0.000000       0.000000    0.000000    1.000000   \n75%      1.000000    1.000000       1.000000    1.000000    1.000000   \nmax      1.000000    1.000000       1.000000    1.000000    1.000000   \n\n        address_1  \ncount  920.000000  \nmean     0.396739  \nstd      0.489487  \nmin      0.000000  \n25%      0.000000  \n50%      0.000000  \n75%      1.000000  \nmax      1.000000  ",
      "text/html": "<div>\n<style scoped>\n    .dataframe tbody tr th:only-of-type {\n        vertical-align: middle;\n    }\n\n    .dataframe tbody tr th {\n        vertical-align: top;\n    }\n\n    .dataframe thead th {\n        text-align: right;\n    }\n</style>\n<table border=\"1\" class=\"dataframe\">\n  <thead>\n    <tr style=\"text-align: right;\">\n      <th></th>\n      <th>given_name</th>\n      <th>surname</th>\n      <th>date_of_birth</th>\n      <th>suburb</th>\n      <th>state</th>\n      <th>address_1</th>\n    </tr>\n  </thead>\n  <tbody>\n    <tr>\n      <th>count</th>\n      <td>920.000000</td>\n      <td>920.000000</td>\n      <td>920.000000</td>\n      <td>920.000000</td>\n      <td>920.000000</td>\n      <td>920.000000</td>\n    </tr>\n    <tr>\n      <th>mean</th>\n      <td>0.341304</td>\n      <td>0.370652</td>\n      <td>0.402174</td>\n      <td>0.318478</td>\n      <td>0.544565</td>\n      <td>0.396739</td>\n    </tr>\n    <tr>\n      <th>std</th>\n      <td>0.474405</td>\n      <td>0.483242</td>\n      <td>0.490603</td>\n      <td>0.466140</td>\n      <td>0.498281</td>\n      <td>0.489487</td>\n    </tr>\n    <tr>\n      <th>min</th>\n      <td>0.000000</td>\n      <td>0.000000</td>\n      <td>0.000000</td>\n      <td>0.000000</td>\n      <td>0.000000</td>\n      <td>0.000000</td>\n    </tr>\n    <tr>\n      <th>25%</th>\n      <td>0.000000</td>\n      <td>0.000000</td>\n      <td>0.000000</td>\n      <td>0.000000</td>\n      <td>0.000000</td>\n      <td>0.000000</td>\n    </tr>\n    <tr>\n      <th>50%</th>\n      <td>0.000000</td>\n      <td>0.000000</td>\n      <td>0.000000</td>\n      <td>0.000000</td>\n      <td>1.000000</td>\n      <td>0.000000</td>\n    </tr>\n    <tr>\n      <th>75%</th>\n      <td>1.000000</td>\n      <td>1.000000</td>\n      <td>1.000000</td>\n      <td>1.000000</td>\n      <td>1.000000</td>\n      <td>1.000000</td>\n    </tr>\n    <tr>\n      <th>max</th>\n      <td>1.000000</td>\n      <td>1.000000</td>\n      <td>1.000000</td>\n      <td>1.000000</td>\n      <td>1.000000</td>\n      <td>1.000000</td>\n    </tr>\n  </tbody>\n</table>\n</div>"
     },
     "execution_count": 51,
     "metadata": {},
     "output_type": "execute_result"
    }
   ],
   "source": [
    "features.describe()"
   ],
   "metadata": {
    "collapsed": false,
    "ExecuteTime": {
     "end_time": "2023-11-05T13:26:57.907926Z",
     "start_time": "2023-11-05T13:26:57.897697Z"
    }
   },
   "id": "e06d4583e606e03d"
  },
  {
   "cell_type": "code",
   "execution_count": 52,
   "outputs": [
    {
     "data": {
      "text/plain": "6.0    136\n5.0    169\n4.0     80\n3.0     28\n2.0      7\n1.0    105\n0.0    395\nName: count, dtype: int64"
     },
     "execution_count": 52,
     "metadata": {},
     "output_type": "execute_result"
    }
   ],
   "source": [
    "features.sum(axis=1).value_counts().sort_index(ascending=False)"
   ],
   "metadata": {
    "collapsed": false,
    "ExecuteTime": {
     "end_time": "2023-11-05T13:26:58.060181Z",
     "start_time": "2023-11-05T13:26:58.049359Z"
    }
   },
   "id": "36c4146bbd843793"
  },
  {
   "cell_type": "code",
   "execution_count": 53,
   "outputs": [
    {
     "data": {
      "text/plain": "                             given_name  surname  date_of_birth  suburb  \\\nrec_id_1      rec_id_2                                                    \nrec-223-dup-0 rec-223-org           0.0      1.0              1       1   \nrec-10-org    rec-10-dup-0          1.0      1.0              1       1   \nrec-6-org     rec-6-dup-0           0.0      1.0              1       0   \nrec-190-org   rec-190-dup-0         1.0      1.0              0       1   \nrec-294-dup-0 rec-294-org           1.0      1.0              1       1   \n...                                 ...      ...            ...     ...   \nrec-299-dup-0 rec-299-org           1.0      1.0              1       1   \nrec-491-dup-0 rec-491-org           1.0      1.0              1       1   \nrec-8-org     rec-8-dup-0           1.0      1.0              1       1   \nrec-222-dup-0 rec-222-org           1.0      1.0              1       1   \nrec-83-org    rec-83-dup-0          1.0      1.0              1       1   \n\n                             state  address_1  \nrec_id_1      rec_id_2                         \nrec-223-dup-0 rec-223-org        1        1.0  \nrec-10-org    rec-10-dup-0       1        1.0  \nrec-6-org     rec-6-dup-0        1        1.0  \nrec-190-org   rec-190-dup-0      1        1.0  \nrec-294-dup-0 rec-294-org        1        1.0  \n...                            ...        ...  \nrec-299-dup-0 rec-299-org        1        1.0  \nrec-491-dup-0 rec-491-org        1        1.0  \nrec-8-org     rec-8-dup-0        1        1.0  \nrec-222-dup-0 rec-222-org        1        1.0  \nrec-83-org    rec-83-dup-0       1        1.0  \n\n[385 rows x 6 columns]",
      "text/html": "<div>\n<style scoped>\n    .dataframe tbody tr th:only-of-type {\n        vertical-align: middle;\n    }\n\n    .dataframe tbody tr th {\n        vertical-align: top;\n    }\n\n    .dataframe thead th {\n        text-align: right;\n    }\n</style>\n<table border=\"1\" class=\"dataframe\">\n  <thead>\n    <tr style=\"text-align: right;\">\n      <th></th>\n      <th></th>\n      <th>given_name</th>\n      <th>surname</th>\n      <th>date_of_birth</th>\n      <th>suburb</th>\n      <th>state</th>\n      <th>address_1</th>\n    </tr>\n    <tr>\n      <th>rec_id_1</th>\n      <th>rec_id_2</th>\n      <th></th>\n      <th></th>\n      <th></th>\n      <th></th>\n      <th></th>\n      <th></th>\n    </tr>\n  </thead>\n  <tbody>\n    <tr>\n      <th>rec-223-dup-0</th>\n      <th>rec-223-org</th>\n      <td>0.0</td>\n      <td>1.0</td>\n      <td>1</td>\n      <td>1</td>\n      <td>1</td>\n      <td>1.0</td>\n    </tr>\n    <tr>\n      <th>rec-10-org</th>\n      <th>rec-10-dup-0</th>\n      <td>1.0</td>\n      <td>1.0</td>\n      <td>1</td>\n      <td>1</td>\n      <td>1</td>\n      <td>1.0</td>\n    </tr>\n    <tr>\n      <th>rec-6-org</th>\n      <th>rec-6-dup-0</th>\n      <td>0.0</td>\n      <td>1.0</td>\n      <td>1</td>\n      <td>0</td>\n      <td>1</td>\n      <td>1.0</td>\n    </tr>\n    <tr>\n      <th>rec-190-org</th>\n      <th>rec-190-dup-0</th>\n      <td>1.0</td>\n      <td>1.0</td>\n      <td>0</td>\n      <td>1</td>\n      <td>1</td>\n      <td>1.0</td>\n    </tr>\n    <tr>\n      <th>rec-294-dup-0</th>\n      <th>rec-294-org</th>\n      <td>1.0</td>\n      <td>1.0</td>\n      <td>1</td>\n      <td>1</td>\n      <td>1</td>\n      <td>1.0</td>\n    </tr>\n    <tr>\n      <th>...</th>\n      <th>...</th>\n      <td>...</td>\n      <td>...</td>\n      <td>...</td>\n      <td>...</td>\n      <td>...</td>\n      <td>...</td>\n    </tr>\n    <tr>\n      <th>rec-299-dup-0</th>\n      <th>rec-299-org</th>\n      <td>1.0</td>\n      <td>1.0</td>\n      <td>1</td>\n      <td>1</td>\n      <td>1</td>\n      <td>1.0</td>\n    </tr>\n    <tr>\n      <th>rec-491-dup-0</th>\n      <th>rec-491-org</th>\n      <td>1.0</td>\n      <td>1.0</td>\n      <td>1</td>\n      <td>1</td>\n      <td>1</td>\n      <td>1.0</td>\n    </tr>\n    <tr>\n      <th>rec-8-org</th>\n      <th>rec-8-dup-0</th>\n      <td>1.0</td>\n      <td>1.0</td>\n      <td>1</td>\n      <td>1</td>\n      <td>1</td>\n      <td>1.0</td>\n    </tr>\n    <tr>\n      <th>rec-222-dup-0</th>\n      <th>rec-222-org</th>\n      <td>1.0</td>\n      <td>1.0</td>\n      <td>1</td>\n      <td>1</td>\n      <td>1</td>\n      <td>1.0</td>\n    </tr>\n    <tr>\n      <th>rec-83-org</th>\n      <th>rec-83-dup-0</th>\n      <td>1.0</td>\n      <td>1.0</td>\n      <td>1</td>\n      <td>1</td>\n      <td>1</td>\n      <td>1.0</td>\n    </tr>\n  </tbody>\n</table>\n<p>385 rows × 6 columns</p>\n</div>"
     },
     "execution_count": 53,
     "metadata": {},
     "output_type": "execute_result"
    }
   ],
   "source": [
    "matches = features[features.sum(axis=1) > 3]\n",
    "matches"
   ],
   "metadata": {
    "collapsed": false,
    "ExecuteTime": {
     "end_time": "2023-11-05T13:26:59.765852Z",
     "start_time": "2023-11-05T13:26:59.743742Z"
    }
   },
   "id": "cc2a1e7182fb2a64"
  },
  {
   "cell_type": "code",
   "execution_count": 54,
   "outputs": [
    {
     "name": "stdout",
     "output_type": "stream",
     "text": [
      "385\n"
     ]
    }
   ],
   "source": [
    "print(len(matches))"
   ],
   "metadata": {
    "collapsed": false,
    "ExecuteTime": {
     "end_time": "2023-11-05T13:26:59.935925Z",
     "start_time": "2023-11-05T13:26:59.932788Z"
    }
   },
   "id": "b73235059e7ac382"
  },
  {
   "cell_type": "code",
   "execution_count": 58,
   "outputs": [
    {
     "data": {
      "text/plain": "              given_name     surname street_number         address_1  \\\nrec-223-dup-0    jamilla     wallner             6  tullaroop street   \nrec-223-org          NaN      waller             6  tullaroop street   \nrec-10-org         kayla  harrington            38    maltby circuit   \nrec-10-dup-0       kayla  harrington           NaN    maltby circuit   \nrec-6-org            NaN   trevorrow            16      dumas street   \n...                  ...         ...           ...               ...   \nrec-8-dup-0        james     jeslser            53     howe crescent   \nrec-222-dup-0     emiiyl     coleman           108   chewings street   \nrec-222-org       emiily     coleman           108   chewings street   \nrec-83-org      mitchell       berry             1     braine street   \nrec-83-dup-0    mitchell       berry             1      braine treet   \n\n                             address_2            suburb postcode state  \\\nrec-223-dup-0                 willaroo          st james     4011    wa   \nrec-223-org                   willaroo          st james     4011    wa   \nrec-10-org                     coaling          coolaroo     3465   nsw   \nrec-10-dup-0                   coaling          coolaroo     3465   nsw   \nrec-6-org      2/98-latchford barracks     mount ommaney     2281    wa   \n...                                ...               ...      ...   ...   \nrec-8-dup-0          nuffield v illage          st clair     4215   vic   \nrec-222-dup-0            berkeleyv lge  wellington point     2550   nsw   \nrec-222-org              berkeley vlge  wellington point     2550   nsw   \nrec-83-org                      gowrie        smithfield     3188   nsw   \nrec-83-dup-0                       NaN        smithfield     3188   nsw   \n\n              date_of_birth soc_sec_id  \nrec-223-dup-0      19081209    6988048  \nrec-223-org        19081209    6988048  \nrec-10-org         19150612    9004242  \nrec-10-dup-0       19150612    9004242  \nrec-6-org          19530313    4811642  \n...                     ...        ...  \nrec-8-dup-0        19120111    5961736  \nrec-222-dup-0      19421221    7206933  \nrec-222-org        19421221    7206933  \nrec-83-org         19400503    2887622  \nrec-83-dup-0       19400503    2887622  \n\n[770 rows x 10 columns]",
      "text/html": "<div>\n<style scoped>\n    .dataframe tbody tr th:only-of-type {\n        vertical-align: middle;\n    }\n\n    .dataframe tbody tr th {\n        vertical-align: top;\n    }\n\n    .dataframe thead th {\n        text-align: right;\n    }\n</style>\n<table border=\"1\" class=\"dataframe\">\n  <thead>\n    <tr style=\"text-align: right;\">\n      <th></th>\n      <th>given_name</th>\n      <th>surname</th>\n      <th>street_number</th>\n      <th>address_1</th>\n      <th>address_2</th>\n      <th>suburb</th>\n      <th>postcode</th>\n      <th>state</th>\n      <th>date_of_birth</th>\n      <th>soc_sec_id</th>\n    </tr>\n  </thead>\n  <tbody>\n    <tr>\n      <th>rec-223-dup-0</th>\n      <td>jamilla</td>\n      <td>wallner</td>\n      <td>6</td>\n      <td>tullaroop street</td>\n      <td>willaroo</td>\n      <td>st james</td>\n      <td>4011</td>\n      <td>wa</td>\n      <td>19081209</td>\n      <td>6988048</td>\n    </tr>\n    <tr>\n      <th>rec-223-org</th>\n      <td>NaN</td>\n      <td>waller</td>\n      <td>6</td>\n      <td>tullaroop street</td>\n      <td>willaroo</td>\n      <td>st james</td>\n      <td>4011</td>\n      <td>wa</td>\n      <td>19081209</td>\n      <td>6988048</td>\n    </tr>\n    <tr>\n      <th>rec-10-org</th>\n      <td>kayla</td>\n      <td>harrington</td>\n      <td>38</td>\n      <td>maltby circuit</td>\n      <td>coaling</td>\n      <td>coolaroo</td>\n      <td>3465</td>\n      <td>nsw</td>\n      <td>19150612</td>\n      <td>9004242</td>\n    </tr>\n    <tr>\n      <th>rec-10-dup-0</th>\n      <td>kayla</td>\n      <td>harrington</td>\n      <td>NaN</td>\n      <td>maltby circuit</td>\n      <td>coaling</td>\n      <td>coolaroo</td>\n      <td>3465</td>\n      <td>nsw</td>\n      <td>19150612</td>\n      <td>9004242</td>\n    </tr>\n    <tr>\n      <th>rec-6-org</th>\n      <td>NaN</td>\n      <td>trevorrow</td>\n      <td>16</td>\n      <td>dumas street</td>\n      <td>2/98-latchford barracks</td>\n      <td>mount ommaney</td>\n      <td>2281</td>\n      <td>wa</td>\n      <td>19530313</td>\n      <td>4811642</td>\n    </tr>\n    <tr>\n      <th>...</th>\n      <td>...</td>\n      <td>...</td>\n      <td>...</td>\n      <td>...</td>\n      <td>...</td>\n      <td>...</td>\n      <td>...</td>\n      <td>...</td>\n      <td>...</td>\n      <td>...</td>\n    </tr>\n    <tr>\n      <th>rec-8-dup-0</th>\n      <td>james</td>\n      <td>jeslser</td>\n      <td>53</td>\n      <td>howe crescent</td>\n      <td>nuffield v illage</td>\n      <td>st clair</td>\n      <td>4215</td>\n      <td>vic</td>\n      <td>19120111</td>\n      <td>5961736</td>\n    </tr>\n    <tr>\n      <th>rec-222-dup-0</th>\n      <td>emiiyl</td>\n      <td>coleman</td>\n      <td>108</td>\n      <td>chewings street</td>\n      <td>berkeleyv lge</td>\n      <td>wellington point</td>\n      <td>2550</td>\n      <td>nsw</td>\n      <td>19421221</td>\n      <td>7206933</td>\n    </tr>\n    <tr>\n      <th>rec-222-org</th>\n      <td>emiily</td>\n      <td>coleman</td>\n      <td>108</td>\n      <td>chewings street</td>\n      <td>berkeley vlge</td>\n      <td>wellington point</td>\n      <td>2550</td>\n      <td>nsw</td>\n      <td>19421221</td>\n      <td>7206933</td>\n    </tr>\n    <tr>\n      <th>rec-83-org</th>\n      <td>mitchell</td>\n      <td>berry</td>\n      <td>1</td>\n      <td>braine street</td>\n      <td>gowrie</td>\n      <td>smithfield</td>\n      <td>3188</td>\n      <td>nsw</td>\n      <td>19400503</td>\n      <td>2887622</td>\n    </tr>\n    <tr>\n      <th>rec-83-dup-0</th>\n      <td>mitchell</td>\n      <td>berry</td>\n      <td>1</td>\n      <td>braine treet</td>\n      <td>NaN</td>\n      <td>smithfield</td>\n      <td>3188</td>\n      <td>nsw</td>\n      <td>19400503</td>\n      <td>2887622</td>\n    </tr>\n  </tbody>\n</table>\n<p>770 rows × 10 columns</p>\n</div>"
     },
     "execution_count": 58,
     "metadata": {},
     "output_type": "execute_result"
    }
   ],
   "source": [
    "duplicate_records = []\n",
    "for i in matches.index:\n",
    "    duplicate_records.append(dfA.loc[i[0]])\n",
    "    duplicate_records.append(dfA.loc[i[1]])\n",
    "duplicate_df = pd.DataFrame(duplicate_records)\n",
    "duplicate_df"
   ],
   "metadata": {
    "collapsed": false,
    "ExecuteTime": {
     "end_time": "2023-11-05T13:30:06.789227Z",
     "start_time": "2023-11-05T13:30:06.777024Z"
    }
   },
   "id": "391a61b37db51c31"
  },
  {
   "cell_type": "code",
   "execution_count": null,
   "outputs": [],
   "source": [],
   "metadata": {
    "collapsed": false
   },
   "id": "6e1314421e90c9be"
  }
 ],
 "metadata": {
  "kernelspec": {
   "display_name": "Python 3",
   "language": "python",
   "name": "python3"
  },
  "language_info": {
   "codemirror_mode": {
    "name": "ipython",
    "version": 2
   },
   "file_extension": ".py",
   "mimetype": "text/x-python",
   "name": "python",
   "nbconvert_exporter": "python",
   "pygments_lexer": "ipython2",
   "version": "2.7.6"
  }
 },
 "nbformat": 4,
 "nbformat_minor": 5
}
