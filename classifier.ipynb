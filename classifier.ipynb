{
 "cells": [
  {
   "cell_type": "code",
   "execution_count": 60,
   "id": "initial_id",
   "metadata": {
    "collapsed": true,
    "ExecuteTime": {
     "end_time": "2023-11-05T14:40:07.856979Z",
     "start_time": "2023-11-05T14:40:07.604207Z"
    }
   },
   "outputs": [],
   "source": [
    "import pandas as pd\n",
    "import requests\n",
    "from pathlib import Path\n",
    "import recordlinkage\n",
    "from sklearn.model_selection import train_test_split\n",
    "from sklearn.metrics import classification_report\n",
    "import matplotlib"
   ]
  },
  {
   "cell_type": "markdown",
   "source": [
    "# Dataset\n",
    "- https://hpi.de/naumann/projects/repeatability/datasets/restaurants-dataset.html\n",
    "- Available in tab separated value (TSV) format. (864 objects - TSV format)\n",
    "    - Same version, with lower-cased values and with special character removed. (864 objects - TSV format)\n",
    "- Duplicates\n",
    "    - A list of all provided duplicates. (112 objects - TSV format)\n",
    "- Non-duplicates\n",
    "    - We generate non-duplicate pairs by following a systematic approach. (1,120 objects - TSV format)\n",
    "    - Using an updated, further simplified approach across datasets. (1,120 objects - TSV format)\n",
    "- Source: https://sourceforge.net/projects/secondstring/"
   ],
   "metadata": {
    "collapsed": false
   },
   "id": "ae7c51a641a374b5"
  },
  {
   "cell_type": "code",
   "execution_count": 2,
   "outputs": [],
   "source": [
    "data_dir = Path('data')\n",
    "if not data_dir.exists():\n",
    "    data_dir.mkdir()"
   ],
   "metadata": {
    "collapsed": false,
    "ExecuteTime": {
     "end_time": "2023-11-05T14:13:38.439223Z",
     "start_time": "2023-11-05T14:13:38.434018Z"
    }
   },
   "id": "c9ae38cae4b68aaa"
  },
  {
   "cell_type": "code",
   "execution_count": 20,
   "outputs": [],
   "source": [
    "def download_and_load(url: str, data_dir: Path) -> pd.DataFrame:\n",
    "    if not data_dir.exists():\n",
    "        data_dir.mkdir()\n",
    "    data = requests.get(url, stream=True)\n",
    "    file_name = url.split('/')[-1]\n",
    "    with open(data_dir / Path(file_name), 'wb') as f:\n",
    "        f.write(data.content)\n",
    "    return pd.read_csv(data_dir / Path(file_name), sep='\\t')"
   ],
   "metadata": {
    "collapsed": false,
    "ExecuteTime": {
     "end_time": "2023-11-05T14:23:29.036979Z",
     "start_time": "2023-11-05T14:23:29.030978Z"
    }
   },
   "id": "fb7f616d2a4de0fd"
  },
  {
   "cell_type": "code",
   "execution_count": 34,
   "outputs": [],
   "source": [
    "restaurant_df = download_and_load('https://hpi.de/fileadmin/user_upload/fachgebiete/naumann/projekte/repeatability/Restaurants/restaurants.tsv', data_dir / Path('restaurant'))\n",
    "restaurant_df = restaurant_df.set_index('id')"
   ],
   "metadata": {
    "collapsed": false,
    "ExecuteTime": {
     "end_time": "2023-11-05T14:28:16.694166Z",
     "start_time": "2023-11-05T14:28:16.435486Z"
    }
   },
   "id": "171c6dae69e95d71"
  },
  {
   "cell_type": "code",
   "execution_count": 22,
   "outputs": [
    {
     "data": {
      "text/plain": "      id                  name                    address           city  \\\n302  303            boca chica  13 1st ave.  near 1st st.       new york   \n30    31              the palm    9001 santa monica blvd.    los angeles   \n653  654  brighton coffee shop          9600 brighton way  beverly hills   \n\n            phone            type  \n302  212/473-0108  latin american  \n30   310/550-8811        american  \n653  310-276-7732    coffee shops  ",
      "text/html": "<div>\n<style scoped>\n    .dataframe tbody tr th:only-of-type {\n        vertical-align: middle;\n    }\n\n    .dataframe tbody tr th {\n        vertical-align: top;\n    }\n\n    .dataframe thead th {\n        text-align: right;\n    }\n</style>\n<table border=\"1\" class=\"dataframe\">\n  <thead>\n    <tr style=\"text-align: right;\">\n      <th></th>\n      <th>id</th>\n      <th>name</th>\n      <th>address</th>\n      <th>city</th>\n      <th>phone</th>\n      <th>type</th>\n    </tr>\n  </thead>\n  <tbody>\n    <tr>\n      <th>302</th>\n      <td>303</td>\n      <td>boca chica</td>\n      <td>13 1st ave.  near 1st st.</td>\n      <td>new york</td>\n      <td>212/473-0108</td>\n      <td>latin american</td>\n    </tr>\n    <tr>\n      <th>30</th>\n      <td>31</td>\n      <td>the palm</td>\n      <td>9001 santa monica blvd.</td>\n      <td>los angeles</td>\n      <td>310/550-8811</td>\n      <td>american</td>\n    </tr>\n    <tr>\n      <th>653</th>\n      <td>654</td>\n      <td>brighton coffee shop</td>\n      <td>9600 brighton way</td>\n      <td>beverly hills</td>\n      <td>310-276-7732</td>\n      <td>coffee shops</td>\n    </tr>\n  </tbody>\n</table>\n</div>"
     },
     "execution_count": 22,
     "metadata": {},
     "output_type": "execute_result"
    }
   ],
   "source": [
    "restaurant_df.sample(3)"
   ],
   "metadata": {
    "collapsed": false,
    "ExecuteTime": {
     "end_time": "2023-11-05T14:23:30.335454Z",
     "start_time": "2023-11-05T14:23:30.330559Z"
    }
   },
   "id": "748bc10c5169e398"
  },
  {
   "cell_type": "code",
   "execution_count": 23,
   "outputs": [],
   "source": [
    "duplicate_df = download_and_load('https://hpi.de/fileadmin/user_upload/fachgebiete/naumann/projekte/repeatability/Restaurants/restaurants_DPL.tsv', data_dir / Path('restaurant'))"
   ],
   "metadata": {
    "collapsed": false,
    "ExecuteTime": {
     "end_time": "2023-11-05T14:23:30.901402Z",
     "start_time": "2023-11-05T14:23:30.768821Z"
    }
   },
   "id": "aaa0dd9a14e0bb16"
  },
  {
   "cell_type": "code",
   "execution_count": 24,
   "outputs": [
    {
     "data": {
      "text/plain": "    id1  id2\n39   79   80\n21   43   44\n61  123  124",
      "text/html": "<div>\n<style scoped>\n    .dataframe tbody tr th:only-of-type {\n        vertical-align: middle;\n    }\n\n    .dataframe tbody tr th {\n        vertical-align: top;\n    }\n\n    .dataframe thead th {\n        text-align: right;\n    }\n</style>\n<table border=\"1\" class=\"dataframe\">\n  <thead>\n    <tr style=\"text-align: right;\">\n      <th></th>\n      <th>id1</th>\n      <th>id2</th>\n    </tr>\n  </thead>\n  <tbody>\n    <tr>\n      <th>39</th>\n      <td>79</td>\n      <td>80</td>\n    </tr>\n    <tr>\n      <th>21</th>\n      <td>43</td>\n      <td>44</td>\n    </tr>\n    <tr>\n      <th>61</th>\n      <td>123</td>\n      <td>124</td>\n    </tr>\n  </tbody>\n</table>\n</div>"
     },
     "execution_count": 24,
     "metadata": {},
     "output_type": "execute_result"
    }
   ],
   "source": [
    "duplicate_df.sample(3)"
   ],
   "metadata": {
    "collapsed": false,
    "ExecuteTime": {
     "end_time": "2023-11-05T14:23:31.289438Z",
     "start_time": "2023-11-05T14:23:31.283729Z"
    }
   },
   "id": "50043a354cd57af"
  },
  {
   "cell_type": "code",
   "execution_count": 25,
   "outputs": [],
   "source": [
    "non_duplicate_df = download_and_load('https://hpi.de/fileadmin/user_upload/fachgebiete/naumann/projekte/repeatability/Restaurants/restaurants_NDPL.tsv', data_dir / Path('restaurant'))"
   ],
   "metadata": {
    "collapsed": false,
    "ExecuteTime": {
     "end_time": "2023-11-05T14:23:32.012049Z",
     "start_time": "2023-11-05T14:23:31.874256Z"
    }
   },
   "id": "e34e6ba77b57b492"
  },
  {
   "cell_type": "code",
   "execution_count": 26,
   "outputs": [
    {
     "data": {
      "text/plain": "     id1  id2\n965  454  468\n736  424  789\n105  207  265",
      "text/html": "<div>\n<style scoped>\n    .dataframe tbody tr th:only-of-type {\n        vertical-align: middle;\n    }\n\n    .dataframe tbody tr th {\n        vertical-align: top;\n    }\n\n    .dataframe thead th {\n        text-align: right;\n    }\n</style>\n<table border=\"1\" class=\"dataframe\">\n  <thead>\n    <tr style=\"text-align: right;\">\n      <th></th>\n      <th>id1</th>\n      <th>id2</th>\n    </tr>\n  </thead>\n  <tbody>\n    <tr>\n      <th>965</th>\n      <td>454</td>\n      <td>468</td>\n    </tr>\n    <tr>\n      <th>736</th>\n      <td>424</td>\n      <td>789</td>\n    </tr>\n    <tr>\n      <th>105</th>\n      <td>207</td>\n      <td>265</td>\n    </tr>\n  </tbody>\n</table>\n</div>"
     },
     "execution_count": 26,
     "metadata": {},
     "output_type": "execute_result"
    }
   ],
   "source": [
    "non_duplicate_df.sample(3)"
   ],
   "metadata": {
    "collapsed": false,
    "ExecuteTime": {
     "end_time": "2023-11-05T14:23:32.573128Z",
     "start_time": "2023-11-05T14:23:32.567427Z"
    }
   },
   "id": "77d3553d56957369"
  },
  {
   "cell_type": "markdown",
   "source": [
    "# Indexing / Creating Record Pairs"
   ],
   "metadata": {
    "collapsed": false
   },
   "id": "c809c35d7d728ae1"
  },
  {
   "cell_type": "code",
   "execution_count": 17,
   "outputs": [],
   "source": [
    "indexer = recordlinkage.Index()\n",
    "indexer.block('city')\n",
    "candidate_links = indexer.index(restaurant_df)"
   ],
   "metadata": {
    "collapsed": false,
    "ExecuteTime": {
     "end_time": "2023-11-05T14:20:51.546452Z",
     "start_time": "2023-11-05T14:20:51.532789Z"
    }
   },
   "id": "9a5d1f7d0b8f2343"
  },
  {
   "cell_type": "code",
   "execution_count": 18,
   "outputs": [
    {
     "data": {
      "text/plain": "57943"
     },
     "execution_count": 18,
     "metadata": {},
     "output_type": "execute_result"
    }
   ],
   "source": [
    "len(candidate_links)"
   ],
   "metadata": {
    "collapsed": false,
    "ExecuteTime": {
     "end_time": "2023-11-05T14:20:58.946950Z",
     "start_time": "2023-11-05T14:20:58.939328Z"
    }
   },
   "id": "48439781ba93a860"
  },
  {
   "cell_type": "code",
   "execution_count": 30,
   "outputs": [
    {
     "data": {
      "text/plain": "Index(['name', 'address', 'city', 'phone', 'type'], dtype='object')"
     },
     "execution_count": 30,
     "metadata": {},
     "output_type": "execute_result"
    }
   ],
   "source": [
    "cols = restaurant_df.columns\n",
    "cols = cols[1:]\n",
    "cols"
   ],
   "metadata": {
    "collapsed": false,
    "ExecuteTime": {
     "end_time": "2023-11-05T14:25:18.635869Z",
     "start_time": "2023-11-05T14:25:18.629555Z"
    }
   },
   "id": "1d28d260e94887f"
  },
  {
   "cell_type": "code",
   "execution_count": 31,
   "outputs": [],
   "source": [
    "compare = recordlinkage.Compare()\n",
    "for c in cols:\n",
    "    compare.string(c, c, method='jarowinkler', threshold=0.85, label=c)"
   ],
   "metadata": {
    "collapsed": false,
    "ExecuteTime": {
     "end_time": "2023-11-05T14:25:36.204525Z",
     "start_time": "2023-11-05T14:25:35.797615Z"
    }
   },
   "id": "451613f0a684b134"
  },
  {
   "cell_type": "code",
   "execution_count": 35,
   "outputs": [],
   "source": [
    "positive_pairs = [(row['id1'], row['id2']) for index, row in duplicate_df.iterrows()]"
   ],
   "metadata": {
    "collapsed": false,
    "ExecuteTime": {
     "end_time": "2023-11-05T14:30:34.539778Z",
     "start_time": "2023-11-05T14:30:34.533617Z"
    }
   },
   "id": "8d06d9cb6395b292"
  },
  {
   "cell_type": "code",
   "execution_count": 37,
   "outputs": [],
   "source": [
    "positive_features = compare.compute(pd.MultiIndex.from_tuples(positive_pairs), restaurant_df)"
   ],
   "metadata": {
    "collapsed": false,
    "ExecuteTime": {
     "end_time": "2023-11-05T14:30:51.104471Z",
     "start_time": "2023-11-05T14:30:51.090944Z"
    }
   },
   "id": "e5cc8a10a36f642c"
  },
  {
   "cell_type": "code",
   "execution_count": 38,
   "outputs": [
    {
     "data": {
      "text/plain": "         name  address  city  phone  type\n151 152   1.0      1.0   1.0    1.0   0.0\n133 134   1.0      1.0   1.0    1.0   0.0\n95  96    1.0      0.0   1.0    1.0   0.0",
      "text/html": "<div>\n<style scoped>\n    .dataframe tbody tr th:only-of-type {\n        vertical-align: middle;\n    }\n\n    .dataframe tbody tr th {\n        vertical-align: top;\n    }\n\n    .dataframe thead th {\n        text-align: right;\n    }\n</style>\n<table border=\"1\" class=\"dataframe\">\n  <thead>\n    <tr style=\"text-align: right;\">\n      <th></th>\n      <th></th>\n      <th>name</th>\n      <th>address</th>\n      <th>city</th>\n      <th>phone</th>\n      <th>type</th>\n    </tr>\n  </thead>\n  <tbody>\n    <tr>\n      <th>151</th>\n      <th>152</th>\n      <td>1.0</td>\n      <td>1.0</td>\n      <td>1.0</td>\n      <td>1.0</td>\n      <td>0.0</td>\n    </tr>\n    <tr>\n      <th>133</th>\n      <th>134</th>\n      <td>1.0</td>\n      <td>1.0</td>\n      <td>1.0</td>\n      <td>1.0</td>\n      <td>0.0</td>\n    </tr>\n    <tr>\n      <th>95</th>\n      <th>96</th>\n      <td>1.0</td>\n      <td>0.0</td>\n      <td>1.0</td>\n      <td>1.0</td>\n      <td>0.0</td>\n    </tr>\n  </tbody>\n</table>\n</div>"
     },
     "execution_count": 38,
     "metadata": {},
     "output_type": "execute_result"
    }
   ],
   "source": [
    "positive_features.sample(3)"
   ],
   "metadata": {
    "collapsed": false,
    "ExecuteTime": {
     "end_time": "2023-11-05T14:30:56.961574Z",
     "start_time": "2023-11-05T14:30:56.953032Z"
    }
   },
   "id": "368ce226e8374618"
  },
  {
   "cell_type": "code",
   "execution_count": 39,
   "outputs": [],
   "source": [
    "positive_features['is_duplicate'] = 1"
   ],
   "metadata": {
    "collapsed": false,
    "ExecuteTime": {
     "end_time": "2023-11-05T14:31:09.526661Z",
     "start_time": "2023-11-05T14:31:09.524401Z"
    }
   },
   "id": "b0c22c5b3357f640"
  },
  {
   "cell_type": "code",
   "execution_count": 40,
   "outputs": [],
   "source": [
    "negative_pairs = [(row['id1'], row['id2']) for index, row in non_duplicate_df.iterrows()]"
   ],
   "metadata": {
    "collapsed": false,
    "ExecuteTime": {
     "end_time": "2023-11-05T14:32:13.393199Z",
     "start_time": "2023-11-05T14:32:13.378144Z"
    }
   },
   "id": "17dae06279daef13"
  },
  {
   "cell_type": "code",
   "execution_count": 41,
   "outputs": [],
   "source": [
    "negative_features = compare.compute(pd.MultiIndex.from_tuples(negative_pairs), restaurant_df)"
   ],
   "metadata": {
    "collapsed": false,
    "ExecuteTime": {
     "end_time": "2023-11-05T14:32:41.511019Z",
     "start_time": "2023-11-05T14:32:41.483840Z"
    }
   },
   "id": "25d1d2c1cb385059"
  },
  {
   "cell_type": "code",
   "execution_count": 42,
   "outputs": [
    {
     "data": {
      "text/plain": "         name  address  city  phone  type\n324 372   0.0      0.0   1.0    0.0   0.0\n436 655   0.0      0.0   0.0    0.0   0.0\n208 269   0.0      0.0   0.0    0.0   0.0",
      "text/html": "<div>\n<style scoped>\n    .dataframe tbody tr th:only-of-type {\n        vertical-align: middle;\n    }\n\n    .dataframe tbody tr th {\n        vertical-align: top;\n    }\n\n    .dataframe thead th {\n        text-align: right;\n    }\n</style>\n<table border=\"1\" class=\"dataframe\">\n  <thead>\n    <tr style=\"text-align: right;\">\n      <th></th>\n      <th></th>\n      <th>name</th>\n      <th>address</th>\n      <th>city</th>\n      <th>phone</th>\n      <th>type</th>\n    </tr>\n  </thead>\n  <tbody>\n    <tr>\n      <th>324</th>\n      <th>372</th>\n      <td>0.0</td>\n      <td>0.0</td>\n      <td>1.0</td>\n      <td>0.0</td>\n      <td>0.0</td>\n    </tr>\n    <tr>\n      <th>436</th>\n      <th>655</th>\n      <td>0.0</td>\n      <td>0.0</td>\n      <td>0.0</td>\n      <td>0.0</td>\n      <td>0.0</td>\n    </tr>\n    <tr>\n      <th>208</th>\n      <th>269</th>\n      <td>0.0</td>\n      <td>0.0</td>\n      <td>0.0</td>\n      <td>0.0</td>\n      <td>0.0</td>\n    </tr>\n  </tbody>\n</table>\n</div>"
     },
     "execution_count": 42,
     "metadata": {},
     "output_type": "execute_result"
    }
   ],
   "source": [
    "negative_features.sample(3)"
   ],
   "metadata": {
    "collapsed": false,
    "ExecuteTime": {
     "end_time": "2023-11-05T14:32:47.837644Z",
     "start_time": "2023-11-05T14:32:47.830132Z"
    }
   },
   "id": "fb55df8d12ab786f"
  },
  {
   "cell_type": "code",
   "execution_count": 43,
   "outputs": [],
   "source": [
    "negative_features['is_duplicate'] = 0"
   ],
   "metadata": {
    "collapsed": false,
    "ExecuteTime": {
     "end_time": "2023-11-05T14:32:58.714974Z",
     "start_time": "2023-11-05T14:32:58.707417Z"
    }
   },
   "id": "84015cb25154cd21"
  },
  {
   "cell_type": "code",
   "execution_count": 44,
   "outputs": [],
   "source": [
    "features = pd.concat([positive_features, negative_features])"
   ],
   "metadata": {
    "collapsed": false,
    "ExecuteTime": {
     "end_time": "2023-11-05T14:33:06.570246Z",
     "start_time": "2023-11-05T14:33:06.555897Z"
    }
   },
   "id": "93b10e3d5408f159"
  },
  {
   "cell_type": "code",
   "execution_count": 46,
   "outputs": [],
   "source": [
    "X_train, X_test, y_train, y_test = train_test_split(features.drop('is_duplicate', axis=1), features['is_duplicate'], test_size=0.2, random_state=42)"
   ],
   "metadata": {
    "collapsed": false,
    "ExecuteTime": {
     "end_time": "2023-11-05T14:33:24.539697Z",
     "start_time": "2023-11-05T14:33:24.522032Z"
    }
   },
   "id": "b09d423f16d711bc"
  },
  {
   "cell_type": "code",
   "execution_count": 48,
   "outputs": [],
   "source": [
    "match_indices = y_train[y_train == 1].index\n",
    "match_index = pd.MultiIndex.from_tuples(match_indices)"
   ],
   "metadata": {
    "collapsed": false,
    "ExecuteTime": {
     "end_time": "2023-11-05T14:37:43.859257Z",
     "start_time": "2023-11-05T14:37:43.845552Z"
    }
   },
   "id": "aeeae34d9c1a926d"
  },
  {
   "cell_type": "code",
   "execution_count": 49,
   "outputs": [],
   "source": [
    "classifier = recordlinkage.LogisticRegressionClassifier()\n",
    "classifier.fit(X_train, match_indices)"
   ],
   "metadata": {
    "collapsed": false,
    "ExecuteTime": {
     "end_time": "2023-11-05T14:37:50.065992Z",
     "start_time": "2023-11-05T14:37:50.048339Z"
    }
   },
   "id": "5d3fb04eb8d49437"
  },
  {
   "cell_type": "code",
   "execution_count": 50,
   "outputs": [],
   "source": [
    "predictions = classifier.predict(X_test)"
   ],
   "metadata": {
    "collapsed": false,
    "ExecuteTime": {
     "end_time": "2023-11-05T14:38:01.524386Z",
     "start_time": "2023-11-05T14:38:01.503658Z"
    }
   },
   "id": "b286dc25b5c1104e"
  },
  {
   "cell_type": "code",
   "execution_count": 51,
   "outputs": [],
   "source": [
    "predicted_matches = pd.Series(0, index=X_test.index)\n",
    "predicted_matches.loc[predictions] = 1"
   ],
   "metadata": {
    "collapsed": false,
    "ExecuteTime": {
     "end_time": "2023-11-05T14:38:10.338841Z",
     "start_time": "2023-11-05T14:38:10.327774Z"
    }
   },
   "id": "c1c047df3408fbaa"
  },
  {
   "cell_type": "code",
   "execution_count": 54,
   "outputs": [
    {
     "name": "stdout",
     "output_type": "stream",
     "text": [
      "              precision    recall  f1-score   support\n",
      "\n",
      "           0       0.99      1.00      1.00       226\n",
      "           1       1.00      0.90      0.95        21\n",
      "\n",
      "    accuracy                           0.99       247\n",
      "   macro avg       1.00      0.95      0.97       247\n",
      "weighted avg       0.99      0.99      0.99       247\n"
     ]
    }
   ],
   "source": [
    "print(classification_report(y_test, predicted_matches))"
   ],
   "metadata": {
    "collapsed": false,
    "ExecuteTime": {
     "end_time": "2023-11-05T14:38:36.151523Z",
     "start_time": "2023-11-05T14:38:36.143953Z"
    }
   },
   "id": "c26decca3b9cae43"
  },
  {
   "cell_type": "code",
   "execution_count": 55,
   "outputs": [],
   "source": [
    "probabilities = classifier.prob(X_test)"
   ],
   "metadata": {
    "collapsed": false,
    "ExecuteTime": {
     "end_time": "2023-11-05T14:39:08.740537Z",
     "start_time": "2023-11-05T14:39:08.727248Z"
    }
   },
   "id": "f69705eb7a5b1cfe"
  },
  {
   "cell_type": "code",
   "execution_count": 63,
   "outputs": [
    {
     "data": {
      "text/plain": "<Axes: ylabel='Frequency'>"
     },
     "execution_count": 63,
     "metadata": {},
     "output_type": "execute_result"
    },
    {
     "data": {
      "text/plain": "<Figure size 640x480 with 1 Axes>",
      "image/png": "[encoded data removed]"
     },
     "metadata": {},
     "output_type": "display_data"
    }
   ],
   "source": [
    "probabilities.plot.hist()"
   ],
   "metadata": {
    "collapsed": false,
    "ExecuteTime": {
     "end_time": "2023-11-05T14:40:20.861661Z",
     "start_time": "2023-11-05T14:40:20.788257Z"
    }
   },
   "id": "52473e0eb1f6799d"
  },
  {
   "cell_type": "code",
   "execution_count": null,
   "outputs": [],
   "source": [],
   "metadata": {
    "collapsed": false
   },
   "id": "b8f0a5532b6be8e3"
  }
 ],
 "metadata": {
  "kernelspec": {
   "display_name": "Python 3",
   "language": "python",
   "name": "python3"
  },
  "language_info": {
   "codemirror_mode": {
    "name": "ipython",
    "version": 2
   },
   "file_extension": ".py",
   "mimetype": "text/x-python",
   "name": "python",
   "nbconvert_exporter": "python",
   "pygments_lexer": "ipython2",
   "version": "2.7.6"
  }
 },
 "nbformat": 4,
 "nbformat_minor": 5
}
